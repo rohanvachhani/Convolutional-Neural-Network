{
  "nbformat": 4,
  "nbformat_minor": 0,
  "metadata": {
    "colab": {
      "name": "CNN_fashionMNIST.ipynb",
      "provenance": [],
      "collapsed_sections": [],
      "authorship_tag": "ABX9TyMj9MGrxdBVIQ4PaQtlWTpC",
      "include_colab_link": true
    },
    "kernelspec": {
      "name": "python3",
      "display_name": "Python 3"
    },
    "language_info": {
      "name": "python"
    },
    "accelerator": "GPU"
  },
  "cells": [
    {
      "cell_type": "markdown",
      "metadata": {
        "id": "view-in-github",
        "colab_type": "text"
      },
      "source": [
        "<a href=\"https://colab.research.google.com/github/rohanvachhani/Convolutional-Neural-Network/blob/main/CNN_fashionMNIST.ipynb\" target=\"_parent\"><img src=\"https://colab.research.google.com/assets/colab-badge.svg\" alt=\"Open In Colab\"/></a>"
      ]
    },
    {
      "cell_type": "code",
      "metadata": {
        "id": "P7k60j7Sej0V"
      },
      "source": [
        "#preparing data:  EXtract, Transform and Load"
      ],
      "execution_count": null,
      "outputs": []
    },
    {
      "cell_type": "code",
      "metadata": {
        "id": "15HWyzATiXpw"
      },
      "source": [
        "import torch\n",
        "import torchvision\n",
        "import torchvision.transforms as transforms "
      ],
      "execution_count": null,
      "outputs": []
    },
    {
      "cell_type": "code",
      "metadata": {
        "colab": {
          "base_uri": "https://localhost:8080/"
        },
        "id": "jr5k5crik1uX",
        "outputId": "07671471-0704-4807-e787-d7059a12e62c"
      },
      "source": [
        "torch.cuda.is_available()"
      ],
      "execution_count": null,
      "outputs": [
        {
          "output_type": "execute_result",
          "data": {
            "text/plain": [
              "True"
            ]
          },
          "metadata": {
            "tags": []
          },
          "execution_count": 89
        }
      ]
    },
    {
      "cell_type": "code",
      "metadata": {
        "id": "pHLQi-xKiiJo"
      },
      "source": [
        "  train_set = torchvision.datasets.FashionMNIST(\n",
        "      './data/FashionMNIST',\n",
        "      train = True, \n",
        "      download = True,\n",
        "      transform = transforms.Compose([\n",
        "          transforms.ToTensor()   #convert all the images into pytorch tensors.\n",
        "      ])\n",
        "\n",
        "  )"
      ],
      "execution_count": null,
      "outputs": []
    },
    {
      "cell_type": "code",
      "metadata": {
        "id": "4ktk6vrjkYeT"
      },
      "source": [
        "train_loader = torch.utils.data.DataLoader(train_set,batch_size = 10, shuffle = True)  #DataLoader gives us access to the data and manipulation capabilities\n",
        "#default batch size is 1"
      ],
      "execution_count": null,
      "outputs": []
    },
    {
      "cell_type": "code",
      "metadata": {
        "id": "VWyPePtmlg1I"
      },
      "source": [
        "#just set the line width for oytorch output printed to the console\n",
        "torch.set_printoptions(linewidth=120)"
      ],
      "execution_count": null,
      "outputs": []
    },
    {
      "cell_type": "code",
      "metadata": {
        "colab": {
          "base_uri": "https://localhost:8080/"
        },
        "id": "BUhcoQVAXvDW",
        "outputId": "e793060e-187b-4952-bf4d-9152149a9fe5"
      },
      "source": [
        "len(train_set)"
      ],
      "execution_count": null,
      "outputs": [
        {
          "output_type": "execute_result",
          "data": {
            "text/plain": [
              "60000"
            ]
          },
          "metadata": {
            "tags": []
          },
          "execution_count": 7
        }
      ]
    },
    {
      "cell_type": "code",
      "metadata": {
        "colab": {
          "base_uri": "https://localhost:8080/"
        },
        "id": "iKDXaNSqXzBy",
        "outputId": "2487b1ec-54f4-48e3-8b64-cb2b82100c1e"
      },
      "source": [
        "#targets are labels in trainset(there are 10 classes) ; There are 60000 labels as we have 60000 train data\n",
        "train_set.targets"
      ],
      "execution_count": null,
      "outputs": [
        {
          "output_type": "execute_result",
          "data": {
            "text/plain": [
              "tensor([9, 0, 0,  ..., 3, 0, 5])"
            ]
          },
          "metadata": {
            "tags": []
          },
          "execution_count": 11
        }
      ]
    },
    {
      "cell_type": "code",
      "metadata": {
        "colab": {
          "base_uri": "https://localhost:8080/"
        },
        "id": "vx4mlivvYkYv",
        "outputId": "c62c7602-fe1e-47be-b627-5d8716af04a5"
      },
      "source": [
        "#printing the number of samples in each class (here we have 10 output classes)\n",
        "train_set.targets.bincount()\n",
        "#each class has equal amount of data i.e 6000 (6000 X 10 = 60,000)\n",
        "#all the classes are balanced here. Class imbalance is a major problem and can be solved by replicate the samples to balance. "
      ],
      "execution_count": null,
      "outputs": [
        {
          "output_type": "execute_result",
          "data": {
            "text/plain": [
              "tensor([6000, 6000, 6000, 6000, 6000, 6000, 6000, 6000, 6000, 6000])"
            ]
          },
          "metadata": {
            "tags": []
          },
          "execution_count": 12
        }
      ]
    },
    {
      "cell_type": "code",
      "metadata": {
        "colab": {
          "base_uri": "https://localhost:8080/",
          "height": 213
        },
        "id": "riJrry26ZVzN",
        "outputId": "56072c83-72ca-4225-d173-1184f4313c21"
      },
      "source": [
        "#observing the data samples in our train_set\n",
        "sample = next(iter(train_set))     #using this we can access the single sample from train_set;  it is a (image data, label) tensor \n",
        "# print(sample)\n",
        "print(len(sample))"
      ],
      "execution_count": null,
      "outputs": [
        {
          "output_type": "stream",
          "text": [
            "2\n"
          ],
          "name": "stdout"
        },
        {
          "output_type": "error",
          "ename": "AttributeError",
          "evalue": "ignored",
          "traceback": [
            "\u001b[0;31m---------------------------------------------------------------------------\u001b[0m",
            "\u001b[0;31mAttributeError\u001b[0m                            Traceback (most recent call last)",
            "\u001b[0;32m<ipython-input-32-d6863a0ce50f>\u001b[0m in \u001b[0;36m<module>\u001b[0;34m()\u001b[0m\n\u001b[1;32m      3\u001b[0m \u001b[0;31m# print(sample)\u001b[0m\u001b[0;34m\u001b[0m\u001b[0;34m\u001b[0m\u001b[0;34m\u001b[0m\u001b[0m\n\u001b[1;32m      4\u001b[0m \u001b[0mprint\u001b[0m\u001b[0;34m(\u001b[0m\u001b[0mlen\u001b[0m\u001b[0;34m(\u001b[0m\u001b[0msample\u001b[0m\u001b[0;34m)\u001b[0m\u001b[0;34m)\u001b[0m\u001b[0;34m\u001b[0m\u001b[0;34m\u001b[0m\u001b[0m\n\u001b[0;32m----> 5\u001b[0;31m \u001b[0mprint\u001b[0m\u001b[0;34m(\u001b[0m\u001b[0msample\u001b[0m\u001b[0;34m.\u001b[0m\u001b[0msize\u001b[0m\u001b[0;34m(\u001b[0m\u001b[0;34m)\u001b[0m\u001b[0;34m)\u001b[0m\u001b[0;34m\u001b[0m\u001b[0;34m\u001b[0m\u001b[0m\n\u001b[0m",
            "\u001b[0;31mAttributeError\u001b[0m: 'tuple' object has no attribute 'size'"
          ]
        }
      ]
    },
    {
      "cell_type": "code",
      "metadata": {
        "colab": {
          "base_uri": "https://localhost:8080/"
        },
        "id": "oXCTrqz1c3f1",
        "outputId": "bac6302c-b80c-44e0-e06b-37fdc8b697ed"
      },
      "source": [
        "image, label =  sample\n",
        "# print(label)        #int from 0 to 9 as we 10 classes\n",
        "print(image.shape)    #gives: torch.Size([1, 28, 28])\n"
      ],
      "execution_count": null,
      "outputs": [
        {
          "output_type": "stream",
          "text": [
            "torch.Size([1, 28, 28])\n"
          ],
          "name": "stdout"
        }
      ]
    },
    {
      "cell_type": "code",
      "metadata": {
        "colab": {
          "base_uri": "https://localhost:8080/",
          "height": 282
        },
        "id": "Q45ej7zzae2z",
        "outputId": "fc81a6c2-1356-4f4f-a336-3d978a4e5498"
      },
      "source": [
        "#accessing individual image\n",
        "\n",
        "#NOTE: have to squeeze the image tensor from [1x28x28] to [28x28] as pypot need a 2d array to draw\n",
        "plt.imshow(image.squeeze(), cmap = 'gray')\n",
        "print('label: ', label)"
      ],
      "execution_count": null,
      "outputs": [
        {
          "output_type": "stream",
          "text": [
            "label:  9\n"
          ],
          "name": "stdout"
        },
        {
          "output_type": "display_data",
          "data": {
            "image/png": "[encoded data removed]",
            "text/plain": [
              "<Figure size 432x288 with 1 Axes>"
            ]
          },
          "metadata": {
            "tags": [],
            "needs_background": "light"
          }
        }
      ]
    },
    {
      "cell_type": "code",
      "metadata": {
        "colab": {
          "base_uri": "https://localhost:8080/"
        },
        "id": "7_3IFFwDeJ0d",
        "outputId": "2d82673a-4366-4d22-e32d-86e41e61f3f9"
      },
      "source": [
        "#working with batches\n",
        "\n",
        "batch_size = train_loader.batch_size\n",
        "# print(batch_size)\n",
        "\n",
        "batch = next(iter(train_loader))    #gives 1 bacth (i.e 10 data samples)\n",
        "# print(batch)\n",
        "\n",
        "images, labels = batch\n",
        "\n",
        "print(images.shape)     #torch.Size([10, 1, 28, 28])\n",
        "print(labels.shape)     #torch.Size([10])"
      ],
      "execution_count": null,
      "outputs": [
        {
          "output_type": "stream",
          "text": [
            "torch.Size([10, 1, 28, 28])\n",
            "torch.Size([10])\n"
          ],
          "name": "stdout"
        }
      ]
    },
    {
      "cell_type": "code",
      "metadata": {
        "colab": {
          "base_uri": "https://localhost:8080/",
          "height": 156
        },
        "id": "VzSovTXFe6a3",
        "outputId": "c0aec3df-db7f-417a-f07c-b58389f5d85a"
      },
      "source": [
        "#print all images in batch\n",
        "import numpy as np\n",
        "grid = torchvision.utils.make_grid(images, nrow=10)   #nrow specifies the number of the images in each row\n",
        "\n",
        "plt.figure(figsize = (15,15))\n",
        "plt.imshow(np.transpose(grid, (1,2,0)))\n",
        "\n",
        "print('labels: ', labels)"
      ],
      "execution_count": null,
      "outputs": [
        {
          "output_type": "stream",
          "text": [
            "labels:  tensor([1, 3, 5, 2, 5, 3, 1, 3, 5, 0])\n"
          ],
          "name": "stdout"
        },
        {
          "output_type": "display_data",
          "data": {
            "image/png": "[encoded data removed]",
            "text/plain": [
              "<Figure size 1080x1080 with 1 Axes>"
            ]
          },
          "metadata": {
            "tags": [],
            "needs_background": "light"
          }
        }
      ]
    },
    {
      "cell_type": "code",
      "metadata": {
        "id": "Gvug8C9Timhc"
      },
      "source": [
        " #CNN class\n",
        "import torch.nn as nn\n",
        "import torch.nn.functional as F\n",
        "\n",
        " class Network(nn.Module):\n",
        "   def __init__(self):\n",
        "     super(Network, self).__init__()    #base Module class keep track of all the underneath weight; very helpful during the training process when weights will get updated.\n",
        "     \n",
        "     #pytoch NN class has 2 types of layers - liner and convolutional layers\n",
        "     #here we'll use conv layer \n",
        "\n",
        "     #1 input channel as out image is rgb, output channel [see EXPLANATION], stride is 1 default and padding is 0 default\n",
        "     #dimention of tensor: [10, 1, 28, 28] (as our input image dimension is 1x28x28 ; batch size is 10)\n",
        "     self.conv1 = nn.Conv2d(in_channels=1,out_channels=6, kernel_size=5)   \n",
        "     self.conv2 = nn.Conv2d(in_channels=6, out_channels=12, kernel_size=5)      \n",
        "\n",
        "     # Fully Connetected linear OR dense layers (flattaned from previous layer of conv)\n",
        "     self.fc1 = nn.Linear(in_features=12*4*4, out_features=120)     #4x4 is dimension of each of the 12 channels \n",
        "     self.fc2 = nn.Linear(in_features=120, out_features=60)\n",
        "     self.out = nn.Linear(in_features=60, out_features=10)\n",
        "\n",
        "\n",
        "     #EXPLANATION:\n",
        "    #  kernal OR filer OR Convolutional filter : \n",
        "\n",
        "    #  hyper parameteres:\n",
        "    #  kernel_size, out_channels , out_featuers  \n",
        "\n",
        "    # data dependent hyperparameters:\n",
        "    # in_channels and in_features and out_feature(in final output layer)\n",
        "\n",
        "    # learnable parameters(whose values are learned durind the trainnig phase by model)\n",
        "\n",
        "    #  no. of output channels are result of applying filter(kernal) on it. 1 filter gives 1 output channel. \n",
        "    #  So, if we specify out_channels=6 means that we want 6 filters in this layer which produce 6 output channels\n",
        "\n",
        "    # output channels are also knowns as feature maps. however, as these output channels are single dimensional tensor in linear layers, at there they are just known as features.\n",
        "\n",
        "\n",
        "      \n",
        "\n",
        "   def forward(self, t):        #forward method is must to provide in neural network impl. It is the actual transformation of input tensor (t). It is a forward pass.\n",
        "     #implement the forward pass in this method\n",
        "\n",
        "     #here our input tensor is transformed as we move through our layers\n",
        "\n",
        "     #1st input layer \n",
        "     t = t\n",
        "     #after : shape of t : [10, 1, 28, 28]\n",
        "\n",
        "     #2nd : hidden convolutional layer 1\n",
        "     t = self.conv1(t)\n",
        "     #after conv1: shape of t : [10, 6, 24, 24]\n",
        "     t = F.relu(t)    \n",
        "     #after relu: shape of t : [10, 6, 24, 24]                              #RELU activation and MAX POOL operations does not have weights in in so, we use these layers directly from NN.Functional package\n",
        "     t = F.max_pool2d(t, kernel_size=2, stride=2)\n",
        "     #after maxppol2d: shape of t : [10, 6, 12, 12]     how? 28x28 becomes 14x14 : [(width_of_input-kernal_size+padding) / stride] +1 => [(28-2+0)/2]+1 = 14\n",
        "\n",
        "     #3rd : hidden convolutional layer 2\n",
        "     t = self.conv2(t)\n",
        "     #after conv2: shape of t : [10, 12, 8, 8]\n",
        "     t = F.relu(t)\n",
        "     #after relu: shape of t : [10, 12, 8, 8]\n",
        "     t = F.max_pool2d(t, kernel_size=2, stride=2)         #default value of stride is equals to the kernefl size\n",
        "     #after maxpool2d: shape of t : [10, 12, 4, 4]     how? 14x14 becomes 14x14 : [(width_of_input-kernal_size+padding) / stride] +1 => [(14-2+0)/2]+1 = 1f4\n",
        "\n",
        "\n",
        "     #4th : 1st fully connected Linear layer \n",
        "\n",
        "     # First we have to reshape our tensor (flattened out tensor for linear layer)\n",
        "     t = t.reshape(-1, 12*4*4)\n",
        "     t = self.fc1(t)\n",
        "     t = F.relu(t)\n",
        "\n",
        "     #5th : 2nd fully connected Linear layer \n",
        "     t = self.fc2(t)\n",
        "     t = F.relu(t)\n",
        "     \n",
        "     #6th : 3nd fully connected Linear layer - Final output layer\n",
        "     t = self.out(t)\n",
        "     # t = F.softmax(t, dim = 1)          #softmax activation function returns positive probabilities for each classes. These probabilitis summed 1\n",
        "     # we do not need to use this activation function here, as we gonna use the loss function (in CROSSENTROPYLOSS function) during training at that time softmax implicitly gonna called by \n",
        "     \n",
        "     return t\n",
        "\n",
        "    \n",
        "\n",
        "\n",
        "  #HOW THIS FORWARD METHOD IS INVOKED?\n",
        "    # Evert layer we defined is an object of NN module, when we call for ex: conv1(input) it actually invokes a special _call_(input) method and\n",
        "    # this _call_(input) method is implemented by pytorch and it then calls forward(input method)\n",
        "    # this applies to pytorch nn modules such as networks and layers \n",
        "\n"
      ],
      "execution_count": 3,
      "outputs": []
    },
    {
      "cell_type": "code",
      "metadata": {
        "colab": {
          "base_uri": "https://localhost:8080/"
        },
        "id": "bvg2p2R5lg-Q",
        "outputId": "aea362c7-0282-45ab-f5b3-12e037c464ed"
      },
      "source": [
        "network = Network()\n",
        "network"
      ],
      "execution_count": null,
      "outputs": [
        {
          "output_type": "execute_result",
          "data": {
            "text/plain": [
              "Network(\n",
              "  (conv1): Conv2d(1, 6, kernel_size=(5, 5), stride=(1, 1))\n",
              "  (conv2): Conv2d(6, 12, kernel_size=(5, 5), stride=(1, 1))\n",
              "  (fc1): Linear(in_features=192, out_features=120, bias=True)\n",
              "  (fc2): Linear(in_features=120, out_features=60, bias=True)\n",
              "  (out): Linear(in_features=60, out_features=10, bias=True)\n",
              ")"
            ]
          },
          "metadata": {
            "tags": []
          },
          "execution_count": 115
        }
      ]
    },
    {
      "cell_type": "code",
      "metadata": {
        "id": "fcVZ6GcvlhH6"
      },
      "source": [
        " #acceess any layers from network object\n",
        "print(network.conv1)\n",
        "print(network.out)"
      ],
      "execution_count": null,
      "outputs": []
    },
    {
      "cell_type": "code",
      "metadata": {
        "colab": {
          "base_uri": "https://localhost:8080/"
        },
        "id": "srjC9uO9lhPb",
        "outputId": "b0f1d52d-363f-458f-ceeb-eae2559805f1"
      },
      "source": [
        "#access the weights of any layer\n",
        "print(network.conv1.weight.shape)   \n",
        "print(network.conv2.weight.shape)\n",
        "print(network.fc1.weight.shape)\n",
        "print(network.fc2.weight.shape)\n",
        "print(network.out.weight.shape)"
      ],
      "execution_count": null,
      "outputs": [
        {
          "output_type": "stream",
          "text": [
            "torch.Size([6, 1, 5, 5])\n",
            "torch.Size([12, 6, 5, 5])\n",
            "torch.Size([120, 192])\n",
            "torch.Size([60, 120])\n",
            "torch.Size([10, 60])\n"
          ],
          "name": "stdout"
        }
      ]
    },
    {
      "cell_type": "code",
      "metadata": {
        "colab": {
          "base_uri": "https://localhost:8080/"
        },
        "id": "aQkv465ZlhU0",
        "outputId": "b9d44e2e-7d9e-42de-a342-ee80ad715055"
      },
      "source": [
        "torch.set_grad_enabled(False)"
      ],
      "execution_count": null,
      "outputs": [
        {
          "output_type": "execute_result",
          "data": {
            "text/plain": [
              "<torch.autograd.grad_mode.set_grad_enabled at 0x7f714a7fb250>"
            ]
          },
          "metadata": {
            "tags": []
          },
          "execution_count": 99
        }
      ]
    },
    {
      "cell_type": "code",
      "metadata": {
        "colab": {
          "base_uri": "https://localhost:8080/"
        },
        "id": "_cE4Q01HlhZn",
        "outputId": "0e64e286-dd29-429e-daa8-7997b29d57e2"
      },
      "source": [
        "network = Network() \n",
        "sample = next(iter(train_set))       #next iter on train_set gives 1 data; on train_loader gives 1 batch\n",
        "\n",
        "image, label = sample\n",
        "\n",
        "  #we have got a single data row i.e a single image and its label\n",
        "  #HOWEVER, OUR NETWORK NEED A BATCH IN IT  \n",
        "  #we can create bacth from our  single image ([1x28x28]) \n",
        "\n",
        "# print(image.unsqueeze(0).shape)     #torch.Size([1, 1, 28, 28]) - [batch_size X channels X height X width] : batch size is 1 now and this can be passes as our input tensor t in our Network class\n",
        "\n",
        "t = image.unsqueeze(0)\n",
        "pred = network(image.unsqueeze(0))\n",
        "\n",
        "print(\"prediction shape: \", pred.shape)   #torch.Size([1, 10])\n",
        "print(label)\n",
        "# plt.imshow(image.squeeze(), cmap='gray')\n"
      ],
      "execution_count": null,
      "outputs": [
        {
          "output_type": "stream",
          "text": [
            "prediction shape:  torch.Size([1, 10])\n",
            "9\n"
          ],
          "name": "stdout"
        }
      ]
    },
    {
      "cell_type": "code",
      "metadata": {
        "colab": {
          "base_uri": "https://localhost:8080/"
        },
        "id": "BmeG7ywblheD",
        "outputId": "b25b0982-8552-4709-9cb5-3bcaeca87cb0"
      },
      "source": [
        "print(pred)                        #here the prediction tensor [1x10] containts prected values for each class for our input images. which class has highest probabiblity it is given as our output.\n",
        "\n",
        "print(F.softmax(pred, dim=1))      #softmax activation operation, makes the negative values of prediction to positive one.\n",
        "print(pred.argmax(dim=1))          #gives the maximam value from out 1x10 prediction tensor. Here the class 0(it chanegs everytime we run!) has the highest value \n",
        "#here the prediction is class 0 however it is actually 9(as the value of label is 9) This is because out model is not trained enough, so it cannot predict the with good accuracy. !\n",
        "\n",
        "print(F.softmax(pred, dim=1).sum())#sum of all the probabilities is 1 "
      ],
      "execution_count": null,
      "outputs": [
        {
          "output_type": "stream",
          "text": [
            "tensor([[-0.1235, -0.0104,  0.0136, -0.0764, -0.1123, -0.0395,  0.0377,  0.1100,  0.1113, -0.0671]],\n",
            "       grad_fn=<AddmmBackward>)\n",
            "tensor([[0.0895, 0.1002, 0.1026, 0.0938, 0.0905, 0.0973, 0.1051, 0.1130, 0.1132, 0.0947]], grad_fn=<SoftmaxBackward>)\n",
            "tensor([8])\n",
            "tensor(1.0000, grad_fn=<SumBackward0>)\n"
          ],
          "name": "stdout"
        }
      ]
    },
    {
      "cell_type": "code",
      "metadata": {
        "colab": {
          "base_uri": "https://localhost:8080/"
        },
        "id": "XMuzeXtdlhiq",
        "outputId": "61888544-a5a1-40d2-8ac0-789dbb942d3d"
      },
      "source": [
        "#Now we gonna do the Batch Processing\n",
        "\n",
        "torch.set_grad_enabled(True) # we now need to changenthe weights, for that gradient tracking is necessary\n",
        "\n",
        "batch = next(iter(train_loader))\n",
        "\n",
        "images, labels = batch\n",
        "\n",
        "preds = network(images)\n",
        "print(preds.shape)      #torch.Size([10, 10])\n",
        "preds                   #10 tensors for 10 images, evry tensor contains 9 predictions for an image."
      ],
      "execution_count": null,
      "outputs": [
        {
          "output_type": "stream",
          "text": [
            "torch.Size([10, 10])\n"
          ],
          "name": "stdout"
        },
        {
          "output_type": "execute_result",
          "data": {
            "text/plain": [
              "tensor([[-0.1338, -0.0032,  0.0088, -0.0941, -0.1094, -0.0376,  0.0447,  0.1044,  0.1128, -0.0631],\n",
              "        [-0.1203, -0.0091,  0.0092, -0.0708, -0.1125, -0.0359,  0.0407,  0.1124,  0.1165, -0.0555],\n",
              "        [-0.1243, -0.0085,  0.0124, -0.0657, -0.1070, -0.0386,  0.0336,  0.1191,  0.1261, -0.0599],\n",
              "        [-0.1215, -0.0125,  0.0112, -0.0834, -0.1134, -0.0356,  0.0446,  0.1113,  0.1095, -0.0530],\n",
              "        [-0.1311, -0.0059,  0.0081, -0.0852, -0.1114, -0.0368,  0.0437,  0.1079,  0.1136, -0.0622],\n",
              "        [-0.1254, -0.0094,  0.0149, -0.0815, -0.1213, -0.0446,  0.0315,  0.1075,  0.1222, -0.0688],\n",
              "        [-0.1262, -0.0086,  0.0164, -0.0808, -0.1110, -0.0371,  0.0438,  0.1102,  0.1181, -0.0649],\n",
              "        [-0.1255, -0.0042,  0.0234, -0.0772, -0.1137, -0.0416,  0.0427,  0.1100,  0.1249, -0.0600],\n",
              "        [-0.1269, -0.0048,  0.0128, -0.0803, -0.1115, -0.0343,  0.0424,  0.1103,  0.1164, -0.0567],\n",
              "        [-0.1265, -0.0043,  0.0124, -0.0846, -0.1093, -0.0348,  0.0444,  0.1071,  0.1121, -0.0592]],\n",
              "       grad_fn=<AddmmBackward>)"
            ]
          },
          "metadata": {
            "tags": []
          },
          "execution_count": 152
        }
      ]
    },
    {
      "cell_type": "code",
      "metadata": {
        "colab": {
          "base_uri": "https://localhost:8080/"
        },
        "id": "KtMALNrslhnV",
        "outputId": "9a32c130-16bf-44f6-bcba-4eca0a72a617"
      },
      "source": [
        " preds.argmax(dim=1)    #it gives max values from each 10 tensors (interpretation : in bactch of 10 images, for image 1, our model has predicted that it is class8 (Bag); \n",
        "                        #same for image 8 our model has predicted class7(snesker) \n",
        "\n",
        "                        #:::::::::::NOTE::::::::::::\n",
        "                        #prediction can change next time we run the model"
      ],
      "execution_count": null,
      "outputs": [
        {
          "output_type": "execute_result",
          "data": {
            "text/plain": [
              "tensor([8, 8, 8, 7, 8, 8, 8, 8, 8, 8])"
            ]
          },
          "metadata": {
            "tags": []
          },
          "execution_count": 153
        }
      ]
    },
    {
      "cell_type": "code",
      "metadata": {
        "colab": {
          "base_uri": "https://localhost:8080/"
        },
        "id": "KHlEKS0Flh06",
        "outputId": "df670e91-28d2-4ea0-b735-0be1bd07673f"
      },
      "source": [
        "labels          #But actual labels "
      ],
      "execution_count": null,
      "outputs": [
        {
          "output_type": "execute_result",
          "data": {
            "text/plain": [
              "tensor([1, 2, 5, 5, 3, 7, 9, 7, 3, 2])"
            ]
          },
          "metadata": {
            "tags": []
          },
          "execution_count": 154
        }
      ]
    },
    {
      "cell_type": "code",
      "metadata": {
        "colab": {
          "base_uri": "https://localhost:8080/"
        },
        "id": "PFYkmDbtlh6W",
        "outputId": "52f4e77c-8cbb-4346-c03e-25513d111bfe"
      },
      "source": [
        "#we compare the model's prediction with actual label value(As we are doing supervised learning)\n",
        "preds.argmax(dim=1).eq(labels).sum()          #it gives the number how many images from this batch got correct prediction\n",
        "#eq function calculate argument vise equal function and fives number how many argumenrs are queual in tensor"
      ],
      "execution_count": null,
      "outputs": [
        {
          "output_type": "execute_result",
          "data": {
            "text/plain": [
              "tensor(0)"
            ]
          },
          "metadata": {
            "tags": []
          },
          "execution_count": 157
        }
      ]
    },
    {
      "cell_type": "code",
      "metadata": {
        "id": "6VreiRttlh-2"
      },
      "source": [
        "#we gonna make this as a function\n",
        "def get_num_correct(preds, labels):\n",
        "  return preds.argmax(dim=1).eq(labels).sum().item()"
      ],
      "execution_count": 5,
      "outputs": []
    },
    {
      "cell_type": "code",
      "metadata": {
        "colab": {
          "base_uri": "https://localhost:8080/"
        },
        "id": "bFnP1RPuT-8D",
        "outputId": "f87cc800-0ae3-4fac-db75-912f4d8f6864"
      },
      "source": [
        "get_num_correct(preds, labels)"
      ],
      "execution_count": null,
      "outputs": [
        {
          "output_type": "execute_result",
          "data": {
            "text/plain": [
              "0"
            ]
          },
          "metadata": {
            "tags": []
          },
          "execution_count": 161
        }
      ]
    },
    {
      "cell_type": "code",
      "metadata": {
        "colab": {
          "base_uri": "https://localhost:8080/"
        },
        "id": "nqvQjfL8UH_h",
        "outputId": "3505aef0-3771-43b0-d2fb-ded608ab5e13"
      },
      "source": [
        "#THE TRAINING PROCESS\n",
        "\n",
        "# torch.is_grad_enabled\n",
        "\n",
        "import torch.optim as optim\n",
        "\n",
        "network = Network()\n",
        "\n",
        "train_loader = torch.utils.data.DataLoader(train_set, batch_size=100, shuffle=True)\n",
        "batch = next(iter(train_loader))\n",
        "# print(len(batch[0]))\n",
        "images, labels  = batch\n",
        "\n",
        "preds = network(images)\n",
        "\n",
        "# print(get_num_correct(preds, labels))\n",
        "\n",
        "#calculating loss\n",
        "loss = F.cross_entropy(preds, labels)\n",
        "print(loss.item())    #loss should be decreased as we train our model\n",
        "\n",
        "print(\"weights on conv1: \", network.conv1.weight.grad)      #no gradienrts is calculated yet\n",
        "#backward is the back propogation phase where pytorch calculate error(it is diffential error delta), calculate weight change, and update the weights\n",
        "loss.backward()                                                  #calculating gradients(errors)(i.e similar to delta in NN)\n",
        "\n",
        "print(\"weights on conv1: \", network.conv1.weight.grad.shape)      #gradients are now calculated. \n",
        "#weights are updates and they tracked in grad\n",
        "\n",
        "#now we gonna update the weights\n",
        "optimizer = optim.Adam(network.parameters(),lr = 0.01)         #(same in NN, :: delta weight = (lr)*(delta(here, gradient)*(input value) )\n",
        "optimizer.step()                                              #Update the weights (weight = weight + delta weight)\n"
      ],
      "execution_count": null,
      "outputs": [
        {
          "output_type": "stream",
          "text": [
            "14\n",
            "2.3029935359954834\n",
            "weights on conv1:  None\n",
            "weights on conv1:  torch.Size([6, 1, 5, 5])\n"
          ],
          "name": "stdout"
        }
      ]
    },
    {
      "cell_type": "code",
      "metadata": {
        "colab": {
          "base_uri": "https://localhost:8080/"
        },
        "id": "tZcVR711a0ZM",
        "outputId": "847b655f-424e-4f2d-f424-90f364a528d7"
      },
      "source": [
        "#now if check that first batch again we shoud now have decresed a loss and should possiblly increased the correct predictions\n",
        "pred = network(images)\n",
        "\n",
        "loss = F.cross_entropy(preds, labels)\n",
        "print(loss)\n",
        "\n",
        "get_num_correct(preds, labels)"
      ],
      "execution_count": null,
      "outputs": [
        {
          "output_type": "stream",
          "text": [
            "tensor(2.3030, grad_fn=<NllLossBackward>)\n"
          ],
          "name": "stdout"
        },
        {
          "output_type": "execute_result",
          "data": {
            "text/plain": [
              "14"
            ]
          },
          "metadata": {
            "tags": []
          },
          "execution_count": 180
        }
      ]
    },
    {
      "cell_type": "code",
      "metadata": {
        "colab": {
          "base_uri": "https://localhost:8080/"
        },
        "id": "8jm1enh1cayG",
        "outputId": "facf56b6-f363-4b21-9620-bdb1f0f34fea"
      },
      "source": [
        "#TRAINING EPOCHS WITH COMPLETE TRAINING DATA\n",
        "import torch \n",
        "import torchvision\n",
        "import torchvision.transforms as transforms \n",
        "import torch.optim as optim\n",
        "\n",
        "\n",
        "train_set = torchvision.datasets.FashionMNIST(\n",
        "    \n",
        "      './data/FashionMNIST',\n",
        "      train = True, \n",
        "      download = True,\n",
        "      transform = transforms.Compose([\n",
        "          transforms.ToTensor()   #convert all the images into pytorch tensors.\n",
        "      ])\n",
        "\n",
        "  )\n",
        " \n",
        " \n",
        "network = Network()\n",
        "\n",
        "train_loader = torch.utils.data.DataLoader(train_set, batch_size=100)\n",
        "optimizer = optim.Adam(network.parameters(),lr = 0.01) \n",
        "\n",
        "\n",
        "for epoch in range(13):    #10 ephochs\n",
        "\n",
        "  total_loss = 0\n",
        "  total_correct = 0 \n",
        "    \n",
        "  for batch in train_loader:\n",
        "    images, labels = batch          #100 imsages and labels (as our batch size is 100)\n",
        "\n",
        "    preds = network(images)\n",
        "    loss = F.cross_entropy(preds, labels)       #calculating lossl;  gradients(errors)  #(same in NN, ::delta in NN)\n",
        "  \n",
        "    optimizer.zero_grad()                       #zero out the grediant calaculates in previous iteratios as pytorch defaultly accumulate those previous gradients and add this to in current if not zeroed out.\n",
        "    loss.backward()                             #calculate gradient(errors)     #(same in NN, :: delta weight = (lr)*(delta(here, gradient)*(input value) )\n",
        "    optimizer.step()                            #update weights                 #(same in NN, :: weight = weight + delta weight)\n",
        "    \n",
        "    total_loss += loss.item()\n",
        "    total_correct += get_num_correct(preds, labels)\n",
        "\n",
        "  print(f\"Epoch {epoch+1}: Total number of correct: {total_correct} and loss: {total_loss}\")  \n",
        "\n"
      ],
      "execution_count": 6,
      "outputs": [
        {
          "output_type": "stream",
          "text": [
            "Epoch 1: Total number of correct: 46495 and loss: 353.6586976349354\n",
            "Epoch 2: Total number of correct: 51219 and loss: 237.0813404917717\n",
            "Epoch 3: Total number of correct: 51969 and loss: 217.75143234431744\n",
            "Epoch 4: Total number of correct: 52346 and loss: 208.16807563602924\n",
            "Epoch 5: Total number of correct: 52599 and loss: 199.11761148273945\n",
            "Epoch 6: Total number of correct: 52785 and loss: 196.31137946248055\n",
            "Epoch 7: Total number of correct: 52864 and loss: 192.50317692756653\n",
            "Epoch 8: Total number of correct: 53049 and loss: 190.3816513121128\n",
            "Epoch 9: Total number of correct: 53189 and loss: 187.27946436405182\n",
            "Epoch 10: Total number of correct: 53132 and loss: 187.0919359922409\n",
            "Epoch 11: Total number of correct: 53164 and loss: 187.77169108390808\n",
            "Epoch 12: Total number of correct: 53263 and loss: 183.83255706727505\n",
            "Epoch 13: Total number of correct: 53340 and loss: 182.2395483404398\n"
          ],
          "name": "stdout"
        }
      ]
    },
    {
      "cell_type": "code",
      "metadata": {
        "id": "5WFAnWeDdFS4"
      },
      "source": [
        " #get predictions for entire training set\n",
        " def get_all_preds(model, loader):\n",
        "   all_preds = torch.tensor([])\n",
        "   for batch in loader:\n",
        "     images, labels = batch\n",
        "\n",
        "     preds = model(images)\n",
        "     all_preds = torch.cat((all_preds, preds), dim=0)\n",
        "   return all_preds"
      ],
      "execution_count": 7,
      "outputs": []
    },
    {
      "cell_type": "code",
      "metadata": {
        "id": "nO2ifzGbnea5"
      },
      "source": [
        "# predicition_loader = torch.utils.data.DataLoader(train_set, batch_size = 10000)\n",
        "# train_preds = get_all_preds(network, predicition_loader)"
      ],
      "execution_count": 15,
      "outputs": []
    },
    {
      "cell_type": "code",
      "metadata": {
        "colab": {
          "base_uri": "https://localhost:8080/"
        },
        "id": "GS5Xl0yTpnQl",
        "outputId": "9e14cebc-9360-470f-eb95-a8b5dc0a94e8"
      },
      "source": [
        "train_preds.shape   #torch.Size([60000, 10]): for every 60000 samples we have 10 catagories to predict "
      ],
      "execution_count": 17,
      "outputs": [
        {
          "output_type": "execute_result",
          "data": {
            "text/plain": [
              "torch.Size([60000, 10])"
            ]
          },
          "metadata": {
            "tags": []
          },
          "execution_count": 17
        }
      ]
    },
    {
      "cell_type": "code",
      "metadata": {
        "colab": {
          "base_uri": "https://localhost:8080/"
        },
        "id": "fD9DyDitqBsm",
        "outputId": "ace3da16-5a9d-4d73-88ff-c53b3cb7fb0f"
      },
      "source": [
        "train_preds.grad_fn "
      ],
      "execution_count": 19,
      "outputs": [
        {
          "output_type": "execute_result",
          "data": {
            "text/plain": [
              "<CatBackward at 0x7fa8a2e64c90>"
            ]
          },
          "metadata": {
            "tags": []
          },
          "execution_count": 19
        }
      ]
    },
    {
      "cell_type": "code",
      "metadata": {
        "id": "LPK4GplAqFHL"
      },
      "source": [
        "with torch.no_grad():           #way to locally turn off the gradient tracking ; As we are not training the model at present, we do not need the gradient tracking on (untill we call backward phase, we do not need the grad tracking on)\n",
        "  predicition_loader = torch.utils.data.DataLoader(train_set, batch_size = 10000)\n",
        "  train_preds = get_all_preds(network, predicition_loader)\n"
      ],
      "execution_count": 8,
      "outputs": []
    },
    {
      "cell_type": "code",
      "metadata": {
        "colab": {
          "base_uri": "https://localhost:8080/"
        },
        "id": "HSqsApMdqUvj",
        "outputId": "71c80070-abbd-470c-93d7-93b57e7466bb"
      },
      "source": [
        "preds_correct = get_num_correct(train_preds, train_set.targets)\n",
        "\n",
        "print(f\"Total accurate: {preds_correct}\")\n",
        "print(f\"Accuracy: {preds_correct / len(train_set)}\")"
      ],
      "execution_count": 9,
      "outputs": [
        {
          "output_type": "stream",
          "text": [
            "Total accurate: 53047\n",
            "Accuracy: 0.8841166666666667\n"
          ],
          "name": "stdout"
        }
      ]
    },
    {
      "cell_type": "code",
      "metadata": {
        "colab": {
          "base_uri": "https://localhost:8080/"
        },
        "id": "8ErYdKuRr32p",
        "outputId": "d544a332-a21a-4212-b77b-1e7bccda1419"
      },
      "source": [
        "#BUILDING CONFUSION METRIX\n",
        "\n",
        "# stack the predicted label and actual label\n",
        "stacked = torch.stack((train_set.targets, train_preds.argmax(dim=1)), dim=1)\n",
        "print(stacked.shape)         #60000 rows and 2 colms - actual label and prediction label\n",
        "print(stacked)"
      ],
      "execution_count": 10,
      "outputs": [
        {
          "output_type": "stream",
          "text": [
            "torch.Size([60000, 2])\n",
            "tensor([[9, 9],\n",
            "        [0, 0],\n",
            "        [0, 0],\n",
            "        ...,\n",
            "        [3, 3],\n",
            "        [0, 0],\n",
            "        [5, 5]])\n"
          ],
          "name": "stdout"
        }
      ]
    },
    {
      "cell_type": "code",
      "metadata": {
        "colab": {
          "base_uri": "https://localhost:8080/"
        },
        "id": "_yPvDR-8tsds",
        "outputId": "d7917e18-4d1a-4f0b-e7d7-24dd150b8699"
      },
      "source": [
        "stacked[0].tolist()"
      ],
      "execution_count": 28,
      "outputs": [
        {
          "output_type": "execute_result",
          "data": {
            "text/plain": [
              "[9, 9]"
            ]
          },
          "metadata": {
            "tags": []
          },
          "execution_count": 28
        }
      ]
    },
    {
      "cell_type": "code",
      "metadata": {
        "colab": {
          "base_uri": "https://localhost:8080/"
        },
        "id": "4R8fHIqEt6CK",
        "outputId": "5b4b72e4-f09d-42e7-dcec-60adab0733cd"
      },
      "source": [
        "cmt = torch.zeros(10, 10, dtype=torch.int32)       #as we have 10 classes, our confusion metrix will be of 10 x 10  \n",
        "cmt"
      ],
      "execution_count": 11,
      "outputs": [
        {
          "output_type": "execute_result",
          "data": {
            "text/plain": [
              "tensor([[0, 0, 0, 0, 0, 0, 0, 0, 0, 0],\n",
              "        [0, 0, 0, 0, 0, 0, 0, 0, 0, 0],\n",
              "        [0, 0, 0, 0, 0, 0, 0, 0, 0, 0],\n",
              "        [0, 0, 0, 0, 0, 0, 0, 0, 0, 0],\n",
              "        [0, 0, 0, 0, 0, 0, 0, 0, 0, 0],\n",
              "        [0, 0, 0, 0, 0, 0, 0, 0, 0, 0],\n",
              "        [0, 0, 0, 0, 0, 0, 0, 0, 0, 0],\n",
              "        [0, 0, 0, 0, 0, 0, 0, 0, 0, 0],\n",
              "        [0, 0, 0, 0, 0, 0, 0, 0, 0, 0],\n",
              "        [0, 0, 0, 0, 0, 0, 0, 0, 0, 0]], dtype=torch.int32)"
            ]
          },
          "metadata": {
            "tags": []
          },
          "execution_count": 11
        }
      ]
    },
    {
      "cell_type": "code",
      "metadata": {
        "colab": {
          "base_uri": "https://localhost:8080/"
        },
        "id": "rB3FOJSKuPuZ",
        "outputId": "2275c9aa-4092-4911-a10b-e28133e6c007"
      },
      "source": [
        "for p in stacked:\n",
        "  a_l,p_l = p.tolist()         #extract each pair for 60000 rows of actual label and correct label in a_l and p_l respectively \n",
        "  cmt[a_l, p_l] += 1\n",
        "\n",
        "cmt"
      ],
      "execution_count": 12,
      "outputs": [
        {
          "output_type": "execute_result",
          "data": {
            "text/plain": [
              "tensor([[5608,    7,   61,  125,   27,    1,  145,    0,   25,    1],\n",
              "        [  17, 5878,    0,   75,   15,    0,   11,    1,    3,    0],\n",
              "        [ 147,    1, 4706,   42,  765,    0,  319,    0,   20,    0],\n",
              "        [ 213,   23,   22, 5487,  170,    0,   76,    0,    7,    2],\n",
              "        [  14,    3,  253,  207, 5335,    1,  179,    0,    8,    0],\n",
              "        [   0,    0,    0,    0,    2, 5707,    7,  238,    9,   37],\n",
              "        [1546,    5,  563,  105,  751,    0, 2984,    0,   45,    1],\n",
              "        [   0,    0,    0,    0,    0,   20,    0, 5846,    2,  132],\n",
              "        [  22,   22,   16,   22,   51,    6,   74,   16, 5770,    1],\n",
              "        [   0,    0,    0,    0,    0,   27,    1,  245,    1, 5726]],\n",
              "       dtype=torch.int32)"
            ]
          },
          "metadata": {
            "tags": []
          },
          "execution_count": 12
        }
      ]
    },
    {
      "cell_type": "code",
      "metadata": {
        "id": "ugTXZR4uwx0-"
      },
      "source": [
        "#FUCNTION FOR PLOTTING CONFUSION MATRIX \n",
        "\n",
        "import itertools\n",
        "import numpy as np\n",
        "import matplotlib.pyplot as plt\n",
        "\n",
        "def plot_confusion_matrix(cm, classes, normalize=False, title='Confusion matrix', cmap=plt.cm.Blues):\n",
        "    if normalize:\n",
        "        cm = cm.astype('float') / cm.sum(axis=1)[:, np.newaxis]\n",
        "        print(\"Normalized confusion matrix\")\n",
        "    else:\n",
        "        print('Confusion matrix, without normalization')\n",
        "\n",
        "    print(cm)\n",
        "    plt.imshow(cm, interpolation='nearest', cmap=cmap)\n",
        "    plt.title(title)\n",
        "    plt.colorbar()\n",
        "    tick_marks = np.arange(len(classes))\n",
        "    plt.xticks(tick_marks, classes, rotation=45)\n",
        "    plt.yticks(tick_marks, classes)\n",
        "\n",
        "    fmt = '.2f' if normalize else 'd'\n",
        "    thresh = cm.max() / 2.\n",
        "    for i, j in itertools.product(range(cm.shape[0]), range(cm.shape[1])):\n",
        "        plt.text(j, i, format(cm[i, j], fmt), horizontalalignment=\"center\", color=\"white\" if cm[i, j] > thresh else \"black\")\n",
        "\n",
        "    plt.tight_layout()\n",
        "    plt.ylabel('True label')\n",
        "    plt.xlabel('Predicted label')"
      ],
      "execution_count": 20,
      "outputs": []
    },
    {
      "cell_type": "code",
      "metadata": {
        "colab": {
          "base_uri": "https://localhost:8080/",
          "height": 930
        },
        "id": "sjXo96vovXGQ",
        "outputId": "c9020e37-7908-43a3-a7d7-3cbedd519b96"
      },
      "source": [
        "# Plotting confusion matrix\n",
        "\n",
        "import matplotlib.pyplot as plt\n",
        "from sklearn.metrics import confusion_matrix\n",
        "\n",
        "cm = confusion_matrix(train_set.targets, train_preds.argmax(dim=1))\n",
        "print(type(cm))\n",
        "\n",
        "plt.figure(figsize = (10, 10))\n",
        "plot_confusion_matrix(cm, train_set.classes)"
      ],
      "execution_count": 22,
      "outputs": [
        {
          "output_type": "stream",
          "text": [
            "<class 'numpy.ndarray'>\n",
            "Confusion matrix, without normalization\n",
            "[[5608    7   61  125   27    1  145    0   25    1]\n",
            " [  17 5878    0   75   15    0   11    1    3    0]\n",
            " [ 147    1 4706   42  765    0  319    0   20    0]\n",
            " [ 213   23   22 5487  170    0   76    0    7    2]\n",
            " [  14    3  253  207 5335    1  179    0    8    0]\n",
            " [   0    0    0    0    2 5707    7  238    9   37]\n",
            " [1546    5  563  105  751    0 2984    0   45    1]\n",
            " [   0    0    0    0    0   20    0 5846    2  132]\n",
            " [  22   22   16   22   51    6   74   16 5770    1]\n",
            " [   0    0    0    0    0   27    1  245    1 5726]]\n"
          ],
          "name": "stdout"
        },
        {
          "output_type": "display_data",
          "data": {
            "image/png": "[encoded data removed]",
            "text/plain": [
              "<Figure size 720x720 with 2 Axes>"
            ]
          },
          "metadata": {
            "tags": [],
            "needs_background": "light"
          }
        }
      ]
    }
  ]
}